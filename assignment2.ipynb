{
 "cells": [
  {
   "cell_type": "markdown",
   "metadata": {},
   "source": [
    "# Assignment 2\n",
    "\n",
    "John Flanigan\n",
    "\n",
    "September 23, 2019"
   ]
  },
  {
   "cell_type": "markdown",
   "metadata": {},
   "source": [
    "## 1: Collocations"
   ]
  },
  {
   "cell_type": "code",
   "execution_count": 1,
   "metadata": {},
   "outputs": [],
   "source": [
    "def collocations(words, n, threshold):\n",
    "    groupToCount = {}\n",
    "    for i in range(len(words) - n):\n",
    "        group = tuple(words[i:i+n])\n",
    "        if group in groupToCount:\n",
    "            count = groupToCount[group]\n",
    "            count += 1\n",
    "            groupToCount[group] = count\n",
    "        else:\n",
    "            groupToCount[group] = 1\n",
    "    \n",
    "    collocation_dict = {}\n",
    "    for group, count in groupToCount.items():\n",
    "        if count >= threshold:\n",
    "            collocation_dict[group] = count\n",
    "    \n",
    "    return collocation_dict"
   ]
  },
  {
   "cell_type": "code",
   "execution_count": 2,
   "metadata": {},
   "outputs": [
    {
     "data": {
      "text/plain": [
       "{('.', 'The'): 6081,\n",
       " ('that', 'the'): 1368,\n",
       " ('of', 'the'): 9625,\n",
       " (',', '``'): 1093,\n",
       " ('for', 'the'): 1759,\n",
       " ('in', 'the'): 5546,\n",
       " ('.', '``'): 3515,\n",
       " (\"''\", ','): 2032,\n",
       " (',', 'the'): 3754,\n",
       " ('and', 'the'): 2136,\n",
       " (\"''\", '.'): 3332,\n",
       " ('.', 'It'): 1836,\n",
       " ('to', 'the'): 3426,\n",
       " ('by', 'the'): 1310,\n",
       " ('at', 'the'): 1506,\n",
       " (',', 'but'): 1856,\n",
       " ('with', 'the'): 1472,\n",
       " ('on', 'the'): 2297,\n",
       " ('in', 'a'): 1316,\n",
       " ('of', 'a'): 1461,\n",
       " (',', 'in'): 1064,\n",
       " (',', 'and'): 6288,\n",
       " ('.', 'He'): 2660,\n",
       " (',', 'a'): 1294,\n",
       " ('from', 'the'): 1351,\n",
       " ('to', 'be'): 1697,\n",
       " ('.', 'In'): 1619,\n",
       " ('.', 'But'): 1226,\n",
       " ('.', 'I'): 1197,\n",
       " (',', 'he'): 1489,\n",
       " ('.', 'This'): 1060,\n",
       " ('?', '?'): 2346,\n",
       " (';', ';'): 2784}"
      ]
     },
     "execution_count": 2,
     "metadata": {},
     "output_type": "execute_result"
    }
   ],
   "source": [
    "from nltk.corpus import brown\n",
    "collocations(brown.words(), 2, 1000)"
   ]
  },
  {
   "cell_type": "code",
   "execution_count": 3,
   "metadata": {},
   "outputs": [
    {
     "data": {
      "text/plain": [
       "{('the', 'end', 'of', 'the'): 77,\n",
       " (\"''\", ',', 'he', 'said'): 196,\n",
       " (',', 'he', 'said', '.'): 90,\n",
       " ('he', 'said', '.', '``'): 59,\n",
       " (',', 'he', 'said', ','): 103,\n",
       " ('.', 'There', 'was', 'no'): 57,\n",
       " (\"''\", '?', '?', '``'): 352,\n",
       " ('he', 'said', ',', '``'): 56,\n",
       " ('.', 'It', 'is', 'a'): 52,\n",
       " ('in', 'the', 'United', 'States'): 67,\n",
       " ('.', 'One', 'of', 'the'): 67,\n",
       " (\"''\", '?', '?', 'He'): 80,\n",
       " ('of', 'the', 'United', 'States'): 111,\n",
       " (\"''\", ',', 'she', 'said'): 88,\n",
       " ('.', 'It', 'was', 'the'): 50,\n",
       " (',', 'of', 'course', ','): 161,\n",
       " ('.', 'It', 'was', 'a'): 76,\n",
       " (',', 'as', 'well', 'as'): 76,\n",
       " (\"''\", '?', '?', 'She'): 64,\n",
       " ('the', 'other', 'hand', ','): 56,\n",
       " ('the', 'rest', 'of', 'the'): 52,\n",
       " ('.', 'For', 'example', ','): 56,\n",
       " (',', 'for', 'example', ','): 84,\n",
       " (\"''\", ',', 'I', 'said'): 68,\n",
       " ('at', 'the', 'same', 'time'): 58,\n",
       " (\"''\", '.', '``', 'I'): 67,\n",
       " (\"''\", '?', '?', 'The'): 52,\n",
       " ('.', 'There', 'was', 'a'): 60,\n",
       " ('.', 'It', 'is', 'not'): 57}"
      ]
     },
     "execution_count": 3,
     "metadata": {},
     "output_type": "execute_result"
    }
   ],
   "source": [
    "collocations(brown.words(), 4, 50)"
   ]
  },
  {
   "cell_type": "markdown",
   "metadata": {},
   "source": [
    "## 2: Exercise 2.28\n",
    "Use one of the predefined similarity measures to score the similarity of each of the following pairs of words. Rank the pairs in order of decreasing similarity. How close is your ranking to the order given here, an order that was established experimentally by (Miller & Charles, 1998)."
   ]
  },
  {
   "cell_type": "code",
   "execution_count": 4,
   "metadata": {},
   "outputs": [],
   "source": [
    "pairs = [\n",
    "    (\"car\", \"automobile\"),\n",
    "    (\"gem\", \"jewel\"), \n",
    "    (\"journey\", \"voyage\"), \n",
    "    (\"boy\", \"lad\"), \n",
    "    (\"coast\", \"shore\"), \n",
    "    (\"asylum\", \"madhouse\"), \n",
    "    (\"magician\", \"wizard\"), \n",
    "    (\"midday\", \"noon\"), \n",
    "    (\"furnace\", \"stove\"), \n",
    "    (\"food\", \"fruit\"), \n",
    "    (\"bird\", \"cock\"), \n",
    "    (\"bird\", \"crane\"), \n",
    "    (\"tool\", \"implement\"), \n",
    "    (\"brother\", \"monk\"), \n",
    "    (\"lad\", \"brother\"), \n",
    "    (\"crane\", \"implement\"), \n",
    "    (\"journey\", \"car\"), \n",
    "    (\"monk\", \"oracle\"), \n",
    "    (\"cemetery\", \"woodland\"), \n",
    "    (\"food\", \"rooster\"), \n",
    "    (\"coast\", \"hill\"), \n",
    "    (\"forest\", \"graveyard\"), \n",
    "    (\"shore\", \"woodland\"), \n",
    "    (\"monk\", \"slave\"), \n",
    "    (\"coast\", \"forest\"), \n",
    "    (\"lad\", \"wizard\"), \n",
    "    (\"chord\", \"smile\"), \n",
    "    (\"glass\", \"magician\"), \n",
    "    (\"rooster\", \"voyage\"), \n",
    "    (\"noon\", \"string\")\n",
    "]"
   ]
  },
  {
   "cell_type": "code",
   "execution_count": 5,
   "metadata": {},
   "outputs": [
    {
     "data": {
      "text/plain": [
       "[(('car', 'automobile'), 3.6375861597263857),\n",
       " (('midday', 'noon'), 3.6375861597263857),\n",
       " (('coast', 'shore'), 2.9444389791664407),\n",
       " (('tool', 'implement'), 2.9444389791664407),\n",
       " (('boy', 'lad'), 2.538973871058276),\n",
       " (('journey', 'voyage'), 2.2512917986064953),\n",
       " (('coast', 'hill'), 2.0281482472922856),\n",
       " (('shore', 'woodland'), 2.0281482472922856),\n",
       " (('monk', 'slave'), 2.0281482472922856),\n",
       " (('lad', 'wizard'), 2.0281482472922856),\n",
       " (('magician', 'wizard'), 1.845826690498331),\n",
       " (('lad', 'brother'), 1.6916760106710724),\n",
       " (('gem', 'jewel'), 1.55814461804655),\n",
       " (('asylum', 'madhouse'), 1.55814461804655),\n",
       " (('brother', 'monk'), 1.55814461804655),\n",
       " (('monk', 'oracle'), 1.55814461804655),\n",
       " (('bird', 'crane'), 1.4403615823901665),\n",
       " (('cemetery', 'woodland'), 1.4403615823901665),\n",
       " (('glass', 'magician'), 1.4403615823901665),\n",
       " (('crane', 'implement'), 1.3350010667323402),\n",
       " (('food', 'fruit'), 1.2396908869280152),\n",
       " (('coast', 'forest'), 1.2396908869280152),\n",
       " (('chord', 'smile'), 1.2396908869280152),\n",
       " (('furnace', 'stove'), 1.072636802264849),\n",
       " (('forest', 'graveyard'), 0.9985288301111273),\n",
       " (('bird', 'cock'), 0.8649974374866046),\n",
       " (('food', 'rooster'), 0.8649974374866046),\n",
       " (('noon', 'string'), 0.8043728156701697),\n",
       " (('journey', 'car'), 0.6418538861723948),\n",
       " (('rooster', 'voyage'), 0.4595323293784402)]"
      ]
     },
     "execution_count": 5,
     "metadata": {},
     "output_type": "execute_result"
    }
   ],
   "source": [
    "from nltk.corpus import wordnet as wn\n",
    "\n",
    "pairs_with_similarities = []\n",
    "\n",
    "for pair in pairs:\n",
    "    word1 = wn.synset(pair[0] + '.n.01')\n",
    "    word2 = wn.synset(pair[1] + '.n.01')\n",
    "    similarity = word1.lch_similarity(word2)\n",
    "    pairs_with_similarities.append((pair, similarity))\n",
    "    \n",
    "pairs_with_similarities = sorted(pairs_with_similarities, key=lambda x: x[1], reverse=True)\n",
    "pairs_with_similarities"
   ]
  },
  {
   "cell_type": "code",
   "execution_count": 6,
   "metadata": {},
   "outputs": [
    {
     "name": "stdout",
     "output_type": "stream",
     "text": [
      "Rank=0, Miller & Charles=('car', 'automobile'), Wordnet=('car', 'automobile')\n",
      "Rank=1, Miller & Charles=('gem', 'jewel'), Wordnet=('midday', 'noon')\n",
      "Rank=2, Miller & Charles=('journey', 'voyage'), Wordnet=('coast', 'shore')\n",
      "Rank=3, Miller & Charles=('boy', 'lad'), Wordnet=('tool', 'implement')\n",
      "Rank=4, Miller & Charles=('coast', 'shore'), Wordnet=('boy', 'lad')\n",
      "Rank=5, Miller & Charles=('asylum', 'madhouse'), Wordnet=('journey', 'voyage')\n",
      "Rank=6, Miller & Charles=('magician', 'wizard'), Wordnet=('coast', 'hill')\n",
      "Rank=7, Miller & Charles=('midday', 'noon'), Wordnet=('shore', 'woodland')\n",
      "Rank=8, Miller & Charles=('furnace', 'stove'), Wordnet=('monk', 'slave')\n",
      "Rank=9, Miller & Charles=('food', 'fruit'), Wordnet=('lad', 'wizard')\n",
      "Rank=10, Miller & Charles=('bird', 'cock'), Wordnet=('magician', 'wizard')\n",
      "Rank=11, Miller & Charles=('bird', 'crane'), Wordnet=('lad', 'brother')\n",
      "Rank=12, Miller & Charles=('tool', 'implement'), Wordnet=('gem', 'jewel')\n",
      "Rank=13, Miller & Charles=('brother', 'monk'), Wordnet=('asylum', 'madhouse')\n",
      "Rank=14, Miller & Charles=('lad', 'brother'), Wordnet=('brother', 'monk')\n",
      "Rank=15, Miller & Charles=('crane', 'implement'), Wordnet=('monk', 'oracle')\n",
      "Rank=16, Miller & Charles=('journey', 'car'), Wordnet=('bird', 'crane')\n",
      "Rank=17, Miller & Charles=('monk', 'oracle'), Wordnet=('cemetery', 'woodland')\n",
      "Rank=18, Miller & Charles=('cemetery', 'woodland'), Wordnet=('glass', 'magician')\n",
      "Rank=19, Miller & Charles=('food', 'rooster'), Wordnet=('crane', 'implement')\n",
      "Rank=20, Miller & Charles=('coast', 'hill'), Wordnet=('food', 'fruit')\n",
      "Rank=21, Miller & Charles=('forest', 'graveyard'), Wordnet=('coast', 'forest')\n",
      "Rank=22, Miller & Charles=('shore', 'woodland'), Wordnet=('chord', 'smile')\n",
      "Rank=23, Miller & Charles=('monk', 'slave'), Wordnet=('furnace', 'stove')\n",
      "Rank=24, Miller & Charles=('coast', 'forest'), Wordnet=('forest', 'graveyard')\n",
      "Rank=25, Miller & Charles=('lad', 'wizard'), Wordnet=('bird', 'cock')\n",
      "Rank=26, Miller & Charles=('chord', 'smile'), Wordnet=('food', 'rooster')\n",
      "Rank=27, Miller & Charles=('glass', 'magician'), Wordnet=('noon', 'string')\n",
      "Rank=28, Miller & Charles=('rooster', 'voyage'), Wordnet=('journey', 'car')\n",
      "Rank=29, Miller & Charles=('noon', 'string'), Wordnet=('rooster', 'voyage')\n"
     ]
    },
    {
     "data": {
      "text/plain": [
       "'1 pairs had the same ranking out of 30 pairs.'"
      ]
     },
     "execution_count": 6,
     "metadata": {},
     "output_type": "execute_result"
    }
   ],
   "source": [
    "position_matches = 0\n",
    "for i in range(len(pairs)):\n",
    "    print('Rank={}, Miller & Charles={}, Wordnet={}'.format(i, pairs[i], pairs_with_similarities[i][0]))\n",
    "    if pairs[i] == pairs_with_similarities[i][0]:\n",
    "        position_matches += 1\n",
    "'{} pairs had the same ranking out of {} pairs.'.format(position_matches, len(pairs))"
   ]
  }
 ],
 "metadata": {
  "kernelspec": {
   "display_name": "Python 3",
   "language": "python",
   "name": "python3"
  },
  "language_info": {
   "codemirror_mode": {
    "name": "ipython",
    "version": 3
   },
   "file_extension": ".py",
   "mimetype": "text/x-python",
   "name": "python",
   "nbconvert_exporter": "python",
   "pygments_lexer": "ipython3",
   "version": "3.7.3"
  }
 },
 "nbformat": 4,
 "nbformat_minor": 2
}
